{
 "cells": [
  {
   "cell_type": "code",
   "execution_count": 1,
   "metadata": {},
   "outputs": [
    {
     "name": "stdout",
     "output_type": "stream",
     "text": [
      "2.2.0\n",
      "sys.version_info(major=3, minor=6, micro=9, releaselevel='final', serial=0)\n",
      "matplotlib 3.3.4\n",
      "numpy 1.19.5\n",
      "pandas 1.1.5\n",
      "sklearn 0.24.2\n",
      "tensorflow 2.2.0\n",
      "tensorflow.keras 2.3.0-tf\n"
     ]
    }
   ],
   "source": [
    "import matplotlib as mpl\n",
    "import matplotlib.pyplot as plt\n",
    "%matplotlib inline\n",
    "import numpy as np\n",
    "import sklearn\n",
    "import pandas as pd\n",
    "import os\n",
    "import sys\n",
    "import time\n",
    "import tensorflow as tf\n",
    "\n",
    "from tensorflow import keras\n",
    "\n",
    "print(tf.__version__)\n",
    "print(sys.version_info)\n",
    "for module in mpl, np, pd, sklearn, tf, keras:\n",
    "    print(module.__name__, module.__version__)"
   ]
  },
  {
   "cell_type": "code",
   "execution_count": 4,
   "metadata": {},
   "outputs": [],
   "source": [
    "from sklearn import datasets\n",
    "import tarfile\n",
    "data_home = datasets.get_data_home()\n",
    "archive_path = os.path.join(data_home, 'cal_housing.tgz')\n",
    "with tarfile.open(mode=\"r:gz\", name=archive_path) as f:\n",
    "     cal_housing = np.loadtxt(\n",
    "         f.extractfile(\"CaliforniaHousing/cal_housing.data\"), delimiter=\",\"\n",
    "     )\n",
    "     # Columns are not in the same order compared to the previous\n",
    "     # URL resource on lib.stat.cmu.edu\n",
    "     columns_index = [8, 7, 2, 3, 4, 5, 6, 1, 0]\n",
    "     cal_housing = cal_housing[:, columns_index]\n",
    "       \n",
    "feature_names = [\n",
    "    \"MedInc\",\n",
    "    \"HouseAge\",\n",
    "    \"AveRooms\",\n",
    "    \"AveBedrms\",\n",
    "    \"Population\",\n",
    "    \"AveOccup\",\n",
    "    \"Latitude\",\n",
    "    \"Longitude\",\n",
    "]\n",
    "\n",
    "target, data = cal_housing[:, 0], cal_housing[:, 1:]\n",
    "\n",
    "# avg rooms = total rooms / households\n",
    "data[:, 2] /= data[:, 5]\n",
    "\n",
    "# avg bed rooms = total bed rooms / households\n",
    "data[:, 3] /= data[:, 5]\n",
    "\n",
    "# avg occupancy = population / households\n",
    "data[:, 5] = data[:, 4] / data[:, 5]\n",
    "\n",
    "# target in units of 100,000\n",
    "target = target / 100000.0\n"
   ]
  },
  {
   "cell_type": "code",
   "execution_count": 5,
   "metadata": {
    "scrolled": true
   },
   "outputs": [
    {
     "name": "stdout",
     "output_type": "stream",
     "text": [
      "array([[ 8.32520000e+00,  4.10000000e+01,  6.98412698e+00,\n",
      "         1.02380952e+00,  3.22000000e+02,  2.55555556e+00,\n",
      "         3.78800000e+01, -1.22230000e+02],\n",
      "       [ 8.30140000e+00,  2.10000000e+01,  6.23813708e+00,\n",
      "         9.71880492e-01,  2.40100000e+03,  2.10984183e+00,\n",
      "         3.78600000e+01, -1.22220000e+02],\n",
      "       [ 7.25740000e+00,  5.20000000e+01,  8.28813559e+00,\n",
      "         1.07344633e+00,  4.96000000e+02,  2.80225989e+00,\n",
      "         3.78500000e+01, -1.22240000e+02],\n",
      "       [ 5.64310000e+00,  5.20000000e+01,  5.81735160e+00,\n",
      "         1.07305936e+00,  5.58000000e+02,  2.54794521e+00,\n",
      "         3.78500000e+01, -1.22250000e+02],\n",
      "       [ 3.84620000e+00,  5.20000000e+01,  6.28185328e+00,\n",
      "         1.08108108e+00,  5.65000000e+02,  2.18146718e+00,\n",
      "         3.78500000e+01, -1.22250000e+02]])\n",
      "array([4.526, 3.585, 3.521, 3.413, 3.422])\n"
     ]
    }
   ],
   "source": [
    "# print(housing.data[0:5])\n",
    "import pprint\n",
    "\n",
    "pprint.pprint(data[0:5])\n",
    "pprint.pprint(target[0:5])"
   ]
  },
  {
   "cell_type": "code",
   "execution_count": 6,
   "metadata": {},
   "outputs": [
    {
     "name": "stdout",
     "output_type": "stream",
     "text": [
      "(11610, 8) (11610,)\n",
      "(3870, 8) (3870,)\n",
      "(5160, 8) (5160,)\n"
     ]
    }
   ],
   "source": [
    "from sklearn.model_selection import train_test_split\n",
    "\n",
    "#拆分训练集和测试集，random_state是随机种子,同样的随机数种子，是为了得到同样的随机值\n",
    "x_train_all, x_test, y_train_all, y_test = train_test_split(\n",
    "    data, target, random_state = 7)\n",
    "x_train, x_valid, y_train, y_valid = train_test_split(\n",
    "    x_train_all, y_train_all, random_state = 11)\n",
    "# 训练集\n",
    "print(x_train.shape, y_train.shape)\n",
    "# 验证集\n",
    "print(x_valid.shape, y_valid.shape)\n",
    "# 测试集\n",
    "print(x_test.shape, y_test.shape)\n"
   ]
  },
  {
   "cell_type": "code",
   "execution_count": 7,
   "metadata": {},
   "outputs": [],
   "source": [
    "from sklearn.preprocessing import StandardScaler\n",
    "\n",
    "scaler = StandardScaler()\n",
    "x_train_scaled = scaler.fit_transform(x_train)\n",
    "x_valid_scaled = scaler.transform(x_valid)\n",
    "x_test_scaled = scaler.transform(x_test)"
   ]
  },
  {
   "cell_type": "code",
   "execution_count": 9,
   "metadata": {},
   "outputs": [
    {
     "data": {
      "text/plain": [
       "(8,)"
      ]
     },
     "execution_count": 9,
     "metadata": {},
     "output_type": "execute_result"
    }
   ],
   "source": [
    "#看特征数目\n",
    "x_train_scaled.shape[1:]"
   ]
  },
  {
   "cell_type": "code",
   "execution_count": 10,
   "metadata": {},
   "outputs": [
    {
     "data": {
      "text/plain": [
       "array([-0.29807281,  0.35226166, -0.10920508, -0.25055521, -0.03406402,\n",
       "       -0.006034  ,  1.08055484, -1.06113817])"
      ]
     },
     "execution_count": 10,
     "metadata": {},
     "output_type": "execute_result"
    }
   ],
   "source": [
    "x_train_scaled[1] #标准化后的值看一下"
   ]
  },
  {
   "cell_type": "code",
   "execution_count": 11,
   "metadata": {},
   "outputs": [
    {
     "name": "stdout",
     "output_type": "stream",
     "text": [
      "Model: \"sequential\"\n",
      "_________________________________________________________________\n",
      "Layer (type)                 Output Shape              Param #   \n",
      "=================================================================\n",
      "dense (Dense)                (None, 30)                270       \n",
      "_________________________________________________________________\n",
      "dense_1 (Dense)              (None, 1)                 31        \n",
      "=================================================================\n",
      "Total params: 301\n",
      "Trainable params: 301\n",
      "Non-trainable params: 0\n",
      "_________________________________________________________________\n"
     ]
    }
   ],
   "source": [
    "#回归模型我们只需要1个数\n",
    "model = keras.models.Sequential([\n",
    "    keras.layers.Dense(30, activation='relu',\n",
    "                       input_shape=x_train.shape[1:]),\n",
    "    keras.layers.Dense(1),#结果层只有1个节点\n",
    "])\n",
    "model.summary()\n",
    "#mean_squared_error是均方差\n",
    "model.compile(loss=\"mean_squared_error\", optimizer=\"sgd\")"
   ]
  },
  {
   "cell_type": "code",
   "execution_count": 12,
   "metadata": {},
   "outputs": [
    {
     "data": {
      "text/plain": [
       "[<tensorflow.python.keras.layers.core.Dense at 0x7f6a699e6cf8>,\n",
       " <tensorflow.python.keras.layers.core.Dense at 0x7f6a699ebc18>]"
      ]
     },
     "execution_count": 12,
     "metadata": {},
     "output_type": "execute_result"
    }
   ],
   "source": [
    "model.layers"
   ]
  },
  {
   "cell_type": "code",
   "execution_count": 13,
   "metadata": {},
   "outputs": [
    {
     "name": "stdout",
     "output_type": "stream",
     "text": [
      "Epoch 1/100\n",
      "363/363 [==============================] - 1s 3ms/step - loss: 1.0489 - val_loss: 0.6647\n",
      "Epoch 2/100\n",
      "363/363 [==============================] - 1s 3ms/step - loss: 0.5859 - val_loss: 0.4876\n",
      "Epoch 3/100\n",
      "363/363 [==============================] - 1s 3ms/step - loss: 0.4421 - val_loss: 0.4535\n",
      "Epoch 4/100\n",
      "363/363 [==============================] - 1s 3ms/step - loss: 0.4202 - val_loss: 0.4274\n",
      "Epoch 5/100\n",
      "363/363 [==============================] - 1s 3ms/step - loss: 0.4108 - val_loss: 0.4182\n",
      "Epoch 6/100\n",
      "363/363 [==============================] - 1s 3ms/step - loss: 0.3982 - val_loss: 0.4144\n",
      "Epoch 7/100\n",
      "363/363 [==============================] - 1s 3ms/step - loss: 0.3935 - val_loss: 0.4084\n",
      "Epoch 8/100\n",
      "363/363 [==============================] - 1s 3ms/step - loss: 0.3876 - val_loss: 0.4017\n",
      "Epoch 9/100\n",
      "363/363 [==============================] - 1s 3ms/step - loss: 0.3824 - val_loss: 0.4028\n",
      "Epoch 10/100\n",
      "363/363 [==============================] - 1s 3ms/step - loss: 0.3790 - val_loss: 0.3901\n",
      "Epoch 11/100\n",
      "363/363 [==============================] - 1s 3ms/step - loss: 0.3781 - val_loss: 0.3894\n",
      "Epoch 12/100\n",
      "363/363 [==============================] - 1s 3ms/step - loss: 0.3860 - val_loss: 0.3893\n",
      "Epoch 13/100\n",
      "363/363 [==============================] - 1s 3ms/step - loss: 0.3728 - val_loss: 0.3826\n",
      "Epoch 14/100\n",
      "363/363 [==============================] - 1s 3ms/step - loss: 0.3717 - val_loss: 0.3772\n",
      "Epoch 15/100\n",
      "363/363 [==============================] - 1s 3ms/step - loss: 0.3979 - val_loss: 0.3812\n",
      "Epoch 16/100\n",
      "363/363 [==============================] - 1s 3ms/step - loss: 0.3656 - val_loss: 0.3792\n",
      "Epoch 17/100\n",
      "363/363 [==============================] - 1s 3ms/step - loss: 0.3647 - val_loss: 0.3766\n",
      "Epoch 18/100\n",
      "363/363 [==============================] - 1s 2ms/step - loss: 0.3631 - val_loss: 0.3757\n",
      "Epoch 19/100\n",
      "363/363 [==============================] - 1s 3ms/step - loss: 0.3623 - val_loss: 0.3742\n",
      "Epoch 20/100\n",
      "363/363 [==============================] - 1s 3ms/step - loss: 0.3575 - val_loss: 0.3765\n",
      "Epoch 21/100\n",
      "363/363 [==============================] - 1s 3ms/step - loss: 0.3566 - val_loss: 0.3656\n",
      "Epoch 22/100\n",
      "363/363 [==============================] - 1s 3ms/step - loss: 0.3539 - val_loss: 0.3683\n",
      "Epoch 23/100\n",
      "363/363 [==============================] - 1s 3ms/step - loss: 0.3516 - val_loss: 0.3613\n",
      "Epoch 24/100\n",
      "363/363 [==============================] - 1s 3ms/step - loss: 0.3490 - val_loss: 0.3608\n",
      "Epoch 25/100\n",
      "363/363 [==============================] - 1s 3ms/step - loss: 0.3495 - val_loss: 0.3603\n",
      "Epoch 26/100\n",
      "363/363 [==============================] - 1s 3ms/step - loss: 0.3459 - val_loss: 0.3683\n",
      "Epoch 27/100\n",
      "363/363 [==============================] - 1s 2ms/step - loss: 0.3579 - val_loss: 0.3536\n",
      "Epoch 28/100\n",
      "363/363 [==============================] - 1s 3ms/step - loss: 0.3436 - val_loss: 0.3574\n",
      "Epoch 29/100\n",
      "363/363 [==============================] - 1s 3ms/step - loss: 0.3478 - val_loss: 0.3595\n",
      "Epoch 30/100\n",
      "363/363 [==============================] - 1s 3ms/step - loss: 0.3435 - val_loss: 0.3478\n",
      "Epoch 31/100\n",
      "363/363 [==============================] - 1s 3ms/step - loss: 0.3552 - val_loss: 0.3559\n",
      "Epoch 32/100\n",
      "363/363 [==============================] - 1s 3ms/step - loss: 0.3413 - val_loss: 0.3458\n",
      "Epoch 33/100\n",
      "363/363 [==============================] - 1s 3ms/step - loss: 0.3388 - val_loss: 0.3465\n",
      "Epoch 34/100\n",
      "363/363 [==============================] - 1s 3ms/step - loss: 0.4729 - val_loss: 0.4205\n",
      "Epoch 35/100\n",
      "363/363 [==============================] - 1s 3ms/step - loss: 0.4001 - val_loss: 0.3602\n",
      "Epoch 36/100\n",
      "363/363 [==============================] - 1s 3ms/step - loss: 0.3476 - val_loss: 0.3526\n",
      "Epoch 37/100\n",
      "363/363 [==============================] - 1s 3ms/step - loss: 0.3455 - val_loss: 0.3523\n",
      "Epoch 38/100\n",
      "363/363 [==============================] - 1s 3ms/step - loss: 0.3419 - val_loss: 0.3540\n",
      "Epoch 39/100\n",
      "363/363 [==============================] - 1s 3ms/step - loss: 0.3404 - val_loss: 0.3547\n",
      "Epoch 40/100\n",
      "363/363 [==============================] - 1s 3ms/step - loss: 0.3373 - val_loss: 0.3479\n",
      "Epoch 41/100\n",
      "363/363 [==============================] - 1s 3ms/step - loss: 0.3363 - val_loss: 0.3397\n",
      "Epoch 42/100\n",
      "363/363 [==============================] - 1s 3ms/step - loss: 0.3340 - val_loss: 0.3402\n",
      "Epoch 43/100\n",
      "363/363 [==============================] - 1s 3ms/step - loss: 0.3339 - val_loss: 0.3427\n",
      "Epoch 44/100\n",
      "363/363 [==============================] - 1s 3ms/step - loss: 0.3322 - val_loss: 0.3440\n",
      "Epoch 45/100\n",
      "363/363 [==============================] - 1s 3ms/step - loss: 0.3343 - val_loss: 0.3407\n",
      "Epoch 46/100\n",
      "363/363 [==============================] - 1s 3ms/step - loss: 0.3303 - val_loss: 0.3381\n",
      "Epoch 47/100\n",
      "363/363 [==============================] - 1s 3ms/step - loss: 0.3282 - val_loss: 0.3385\n",
      "Epoch 48/100\n",
      "363/363 [==============================] - 1s 3ms/step - loss: 0.3277 - val_loss: 0.3480\n",
      "Epoch 49/100\n",
      "363/363 [==============================] - 1s 3ms/step - loss: 0.3291 - val_loss: 0.3336\n",
      "Epoch 50/100\n",
      "363/363 [==============================] - 1s 3ms/step - loss: 0.3258 - val_loss: 0.3337\n",
      "Epoch 51/100\n",
      "363/363 [==============================] - 1s 2ms/step - loss: 0.3277 - val_loss: 0.3428\n",
      "Epoch 52/100\n",
      "363/363 [==============================] - 1s 3ms/step - loss: 0.3253 - val_loss: 0.3325\n",
      "Epoch 53/100\n",
      "363/363 [==============================] - 1s 3ms/step - loss: 0.3279 - val_loss: 0.3332\n",
      "Epoch 54/100\n",
      "363/363 [==============================] - 1s 3ms/step - loss: 0.3237 - val_loss: 0.3338\n",
      "Epoch 55/100\n",
      "363/363 [==============================] - 1s 3ms/step - loss: 0.3232 - val_loss: 0.3344\n",
      "Epoch 56/100\n",
      "363/363 [==============================] - 1s 3ms/step - loss: 0.3243 - val_loss: 0.3342\n",
      "Epoch 57/100\n",
      "363/363 [==============================] - 1s 3ms/step - loss: 0.3240 - val_loss: 0.3281\n",
      "Epoch 58/100\n",
      "363/363 [==============================] - 1s 3ms/step - loss: 0.3231 - val_loss: 0.3276\n",
      "Epoch 59/100\n",
      "363/363 [==============================] - 1s 3ms/step - loss: 0.3207 - val_loss: 0.3260\n",
      "Epoch 60/100\n",
      "363/363 [==============================] - 1s 3ms/step - loss: 0.3206 - val_loss: 0.3448\n",
      "Epoch 61/100\n",
      "363/363 [==============================] - 1s 3ms/step - loss: 0.3178 - val_loss: 0.3298\n",
      "Epoch 62/100\n",
      "363/363 [==============================] - 1s 3ms/step - loss: 0.3194 - val_loss: 0.3389\n",
      "Epoch 63/100\n",
      "363/363 [==============================] - 1s 3ms/step - loss: 0.3183 - val_loss: 0.3283\n",
      "Epoch 64/100\n",
      "363/363 [==============================] - 1s 2ms/step - loss: 0.3172 - val_loss: 0.3247\n",
      "Epoch 65/100\n",
      "363/363 [==============================] - 1s 2ms/step - loss: 0.3168 - val_loss: 0.3249\n",
      "Epoch 66/100\n",
      "363/363 [==============================] - 1s 3ms/step - loss: 0.3195 - val_loss: 0.3256\n",
      "Epoch 67/100\n",
      "363/363 [==============================] - 1s 3ms/step - loss: 0.3172 - val_loss: 0.3229\n",
      "Epoch 68/100\n",
      "363/363 [==============================] - 1s 2ms/step - loss: 0.3194 - val_loss: 0.3319\n",
      "Epoch 69/100\n",
      "363/363 [==============================] - 1s 3ms/step - loss: 0.3149 - val_loss: 0.3259\n",
      "Epoch 70/100\n",
      "363/363 [==============================] - 1s 3ms/step - loss: 0.3148 - val_loss: 0.3213\n",
      "Epoch 71/100\n",
      "363/363 [==============================] - 1s 3ms/step - loss: 0.3156 - val_loss: 0.3225\n",
      "Epoch 72/100\n",
      "363/363 [==============================] - 1s 3ms/step - loss: 0.3142 - val_loss: 0.3235\n",
      "Epoch 73/100\n",
      "363/363 [==============================] - 1s 3ms/step - loss: 0.3168 - val_loss: 0.3205\n",
      "Epoch 74/100\n",
      "363/363 [==============================] - 1s 3ms/step - loss: 0.3200 - val_loss: 0.3213\n",
      "Epoch 75/100\n",
      "363/363 [==============================] - 1s 3ms/step - loss: 0.3139 - val_loss: 0.3248\n",
      "Epoch 76/100\n",
      "363/363 [==============================] - 1s 3ms/step - loss: 0.3139 - val_loss: 0.3174\n",
      "Epoch 77/100\n",
      "363/363 [==============================] - 1s 3ms/step - loss: 0.3142 - val_loss: 0.3204\n",
      "Epoch 78/100\n",
      "363/363 [==============================] - 1s 2ms/step - loss: 0.3256 - val_loss: 0.3233\n",
      "Epoch 79/100\n",
      "363/363 [==============================] - 1s 3ms/step - loss: 0.3128 - val_loss: 0.3230\n",
      "Epoch 80/100\n",
      "363/363 [==============================] - 1s 3ms/step - loss: 0.3133 - val_loss: 0.3212\n",
      "Epoch 81/100\n"
     ]
    },
    {
     "name": "stdout",
     "output_type": "stream",
     "text": [
      "363/363 [==============================] - 1s 2ms/step - loss: 0.3139 - val_loss: 0.3229\n",
      "Epoch 82/100\n",
      "363/363 [==============================] - 1s 3ms/step - loss: 0.3120 - val_loss: 0.3245\n",
      "Epoch 83/100\n",
      "363/363 [==============================] - 1s 3ms/step - loss: 0.3169 - val_loss: 0.3259\n",
      "Epoch 84/100\n",
      "363/363 [==============================] - 1s 3ms/step - loss: 0.3092 - val_loss: 0.3244\n",
      "Epoch 85/100\n",
      "363/363 [==============================] - 1s 2ms/step - loss: 0.3202 - val_loss: 0.3179\n",
      "Epoch 86/100\n",
      "363/363 [==============================] - 1s 3ms/step - loss: 0.3095 - val_loss: 0.3427\n",
      "Epoch 87/100\n",
      "363/363 [==============================] - 1s 3ms/step - loss: 0.3109 - val_loss: 0.3152\n",
      "Epoch 88/100\n",
      "363/363 [==============================] - 1s 3ms/step - loss: 0.3139 - val_loss: 0.3211\n",
      "Epoch 89/100\n",
      "363/363 [==============================] - 1s 3ms/step - loss: 0.3086 - val_loss: 0.3204\n",
      "Epoch 90/100\n",
      "363/363 [==============================] - 1s 3ms/step - loss: 0.3076 - val_loss: 0.3168\n",
      "Epoch 91/100\n",
      "363/363 [==============================] - 1s 3ms/step - loss: 0.3099 - val_loss: 0.3392\n",
      "Epoch 92/100\n",
      "363/363 [==============================] - 1s 3ms/step - loss: 0.3066 - val_loss: 0.3177\n",
      "Epoch 93/100\n",
      "363/363 [==============================] - 1s 2ms/step - loss: 0.3057 - val_loss: 0.3224\n",
      "Epoch 94/100\n",
      "363/363 [==============================] - 1s 3ms/step - loss: 0.3096 - val_loss: 0.3189\n",
      "Epoch 95/100\n",
      "363/363 [==============================] - 1s 3ms/step - loss: 0.3058 - val_loss: 0.3236\n",
      "Epoch 96/100\n",
      "363/363 [==============================] - 1s 3ms/step - loss: 0.3060 - val_loss: 0.3216\n",
      "Epoch 97/100\n",
      "363/363 [==============================] - 1s 3ms/step - loss: 0.3074 - val_loss: 0.3181\n",
      "Epoch 98/100\n",
      "363/363 [==============================] - 1s 3ms/step - loss: 0.3048 - val_loss: 0.3157\n",
      "Epoch 99/100\n",
      "363/363 [==============================] - 1s 3ms/step - loss: 0.3090 - val_loss: 0.3249\n",
      "Epoch 100/100\n",
      "363/363 [==============================] - 1s 3ms/step - loss: 0.3037 - val_loss: 0.3189\n"
     ]
    }
   ],
   "source": [
    "history = model.fit(x_train_scaled, y_train,\n",
    "                    validation_data = (x_valid_scaled, y_valid),\n",
    "                    epochs = 100)"
   ]
  },
  {
   "cell_type": "code",
   "execution_count": 14,
   "metadata": {},
   "outputs": [
    {
     "data": {
      "image/png": "[encoded data removed]",
      "text/plain": [
       "<Figure size 576x360 with 1 Axes>"
      ]
     },
     "metadata": {
      "needs_background": "light"
     },
     "output_type": "display_data"
    }
   ],
   "source": [
    "def plot_learning_curves(history):\n",
    "    pd.DataFrame(history.history).plot(figsize=(8, 5))\n",
    "    plt.grid(True)\n",
    "    plt.gca().set_ylim(0, 1.4)\n",
    "    plt.show()\n",
    "plot_learning_curves(history)"
   ]
  },
  {
   "cell_type": "code",
   "execution_count": 15,
   "metadata": {},
   "outputs": [
    {
     "data": {
      "text/plain": [
       "0.3261290192604065"
      ]
     },
     "execution_count": 15,
     "metadata": {},
     "output_type": "execute_result"
    }
   ],
   "source": [
    "model.evaluate(x_test_scaled, y_test, verbose=0)"
   ]
  },
  {
   "cell_type": "code",
   "execution_count": 16,
   "metadata": {},
   "outputs": [
    {
     "data": {
      "text/plain": [
       "-1.0"
      ]
     },
     "execution_count": 16,
     "metadata": {},
     "output_type": "execute_result"
    }
   ],
   "source": [
    "np.tanh(-1000)"
   ]
  }
 ],
 "metadata": {
  "kernelspec": {
   "display_name": "Python 3",
   "language": "python",
   "name": "python3"
  },
  "language_info": {
   "codemirror_mode": {
    "name": "ipython",
    "version": 3
   },
   "file_extension": ".py",
   "mimetype": "text/x-python",
   "name": "python",
   "nbconvert_exporter": "python",
   "pygments_lexer": "ipython3",
   "version": "3.6.9"
  }
 },
 "nbformat": 4,
 "nbformat_minor": 2
}
