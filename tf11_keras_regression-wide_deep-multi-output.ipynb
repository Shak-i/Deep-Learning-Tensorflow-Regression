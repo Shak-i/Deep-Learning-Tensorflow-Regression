{
 "cells": [
  {
   "cell_type": "code",
   "execution_count": 1,
   "metadata": {},
   "outputs": [
    {
     "name": "stdout",
     "output_type": "stream",
     "text": [
      "2.2.0\n",
      "sys.version_info(major=3, minor=6, micro=9, releaselevel='final', serial=0)\n",
      "matplotlib 3.3.4\n",
      "numpy 1.19.5\n",
      "pandas 1.1.5\n",
      "sklearn 0.24.2\n",
      "tensorflow 2.2.0\n",
      "tensorflow.keras 2.3.0-tf\n"
     ]
    }
   ],
   "source": [
    "import matplotlib as mpl\n",
    "import matplotlib.pyplot as plt\n",
    "%matplotlib inline\n",
    "import numpy as np\n",
    "import sklearn\n",
    "import pandas as pd\n",
    "import os\n",
    "import sys\n",
    "import time\n",
    "import tensorflow as tf\n",
    "\n",
    "from tensorflow import keras\n",
    "\n",
    "print(tf.__version__)\n",
    "print(sys.version_info)\n",
    "for module in mpl, np, pd, sklearn, tf, keras:\n",
    "    print(module.__name__, module.__version__)"
   ]
  },
  {
   "cell_type": "code",
   "execution_count": 2,
   "metadata": {},
   "outputs": [],
   "source": [
    "from sklearn import datasets\n",
    "import tarfile\n",
    "data_home = datasets.get_data_home()\n",
    "archive_path = os.path.join(data_home, 'cal_housing.tgz')\n",
    "with tarfile.open(mode=\"r:gz\", name=archive_path) as f:\n",
    "     cal_housing = np.loadtxt(\n",
    "         f.extractfile(\"CaliforniaHousing/cal_housing.data\"), delimiter=\",\"\n",
    "     )\n",
    "     # Columns are not in the same order compared to the previous\n",
    "     # URL resource on lib.stat.cmu.edu\n",
    "     columns_index = [8, 7, 2, 3, 4, 5, 6, 1, 0]\n",
    "     cal_housing = cal_housing[:, columns_index]\n",
    "       \n",
    "feature_names = [\n",
    "    \"MedInc\",\n",
    "    \"HouseAge\",\n",
    "    \"AveRooms\",\n",
    "    \"AveBedrms\",\n",
    "    \"Population\",\n",
    "    \"AveOccup\",\n",
    "    \"Latitude\",\n",
    "    \"Longitude\",\n",
    "]\n",
    "\n",
    "target, data = cal_housing[:, 0], cal_housing[:, 1:]\n",
    "\n",
    "# avg rooms = total rooms / households\n",
    "data[:, 2] /= data[:, 5]\n",
    "\n",
    "# avg bed rooms = total bed rooms / households\n",
    "data[:, 3] /= data[:, 5]\n",
    "\n",
    "# avg occupancy = population / households\n",
    "data[:, 5] = data[:, 4] / data[:, 5]\n",
    "\n",
    "# target in units of 100,000\n",
    "target = target / 100000.0\n"
   ]
  },
  {
   "cell_type": "code",
   "execution_count": 3,
   "metadata": {},
   "outputs": [
    {
     "name": "stdout",
     "output_type": "stream",
     "text": [
      "(11610, 8) (11610,)\n",
      "(3870, 8) (3870,)\n",
      "(5160, 8) (5160,)\n"
     ]
    }
   ],
   "source": [
    "from sklearn.model_selection import train_test_split\n",
    "\n",
    "x_train_all, x_test, y_train_all, y_test = train_test_split(\n",
    "    data,target, random_state = 7)\n",
    "x_train, x_valid, y_train, y_valid = train_test_split(\n",
    "    x_train_all, y_train_all, random_state = 11)\n",
    "print(x_train.shape, y_train.shape)\n",
    "print(x_valid.shape, y_valid.shape)\n",
    "print(x_test.shape, y_test.shape)\n"
   ]
  },
  {
   "cell_type": "code",
   "execution_count": 4,
   "metadata": {},
   "outputs": [],
   "source": [
    "from sklearn.preprocessing import StandardScaler\n",
    "\n",
    "scaler = StandardScaler()\n",
    "x_train_scaled = scaler.fit_transform(x_train)\n",
    "x_valid_scaled = scaler.transform(x_valid)\n",
    "x_test_scaled = scaler.transform(x_test)"
   ]
  },
  {
   "cell_type": "code",
   "execution_count": 5,
   "metadata": {},
   "outputs": [
    {
     "name": "stdout",
     "output_type": "stream",
     "text": [
      "Model: \"model\"\n",
      "__________________________________________________________________________________________________\n",
      "Layer (type)                    Output Shape         Param #     Connected to                     \n",
      "==================================================================================================\n",
      "input_2 (InputLayer)            [(None, 6)]          0                                            \n",
      "__________________________________________________________________________________________________\n",
      "dense (Dense)                   (None, 30)           210         input_2[0][0]                    \n",
      "__________________________________________________________________________________________________\n",
      "input_1 (InputLayer)            [(None, 5)]          0                                            \n",
      "__________________________________________________________________________________________________\n",
      "dense_1 (Dense)                 (None, 30)           930         dense[0][0]                      \n",
      "__________________________________________________________________________________________________\n",
      "concatenate (Concatenate)       (None, 35)           0           input_1[0][0]                    \n",
      "                                                                 dense_1[0][0]                    \n",
      "__________________________________________________________________________________________________\n",
      "dense_2 (Dense)                 (None, 1)            36          concatenate[0][0]                \n",
      "__________________________________________________________________________________________________\n",
      "dense_3 (Dense)                 (None, 1)            31          dense_1[0][0]                    \n",
      "==================================================================================================\n",
      "Total params: 1,207\n",
      "Trainable params: 1,207\n",
      "Non-trainable params: 0\n",
      "__________________________________________________________________________________________________\n"
     ]
    }
   ],
   "source": [
    "# 多输出\n",
    "input_wide = keras.layers.Input(shape=[5])\n",
    "input_deep = keras.layers.Input(shape=[6])\n",
    "hidden1 = keras.layers.Dense(30, activation='relu')(input_deep)\n",
    "hidden2 = keras.layers.Dense(30, activation='relu')(hidden1)\n",
    "concat = keras.layers.concatenate([input_wide, hidden2])\n",
    "output = keras.layers.Dense(1)(concat)\n",
    "#多的输出，是使用hidden2作为一个输入，只用deep做预测\n",
    "output2 = keras.layers.Dense(1)(hidden2)\n",
    "model = keras.models.Model(inputs = [input_wide, input_deep],\n",
    "                           outputs = [output, output2])\n",
    "        \n",
    "\n",
    "model.compile(loss=\"mean_squared_error\", optimizer=\"sgd\")\n",
    "callbacks = [keras.callbacks.EarlyStopping(\n",
    "    patience=5, min_delta=1e-3)]\n",
    "model.summary()"
   ]
  },
  {
   "cell_type": "code",
   "execution_count": 6,
   "metadata": {},
   "outputs": [
    {
     "name": "stdout",
     "output_type": "stream",
     "text": [
      "Epoch 1/100\n",
      "363/363 [==============================] - 2s 4ms/step - loss: 1.9183 - dense_2_loss: 0.7391 - dense_3_loss: 1.1792 - val_loss: 1.7400 - val_dense_2_loss: 0.5862 - val_dense_3_loss: 1.1538\n",
      "Epoch 2/100\n",
      "363/363 [==============================] - 1s 3ms/step - loss: 1.1452 - dense_2_loss: 0.4720 - dense_3_loss: 0.6732 - val_loss: 1.0756 - val_dense_2_loss: 0.4602 - val_dense_3_loss: 0.6154\n",
      "Epoch 3/100\n",
      "363/363 [==============================] - 1s 3ms/step - loss: 1.0250 - dense_2_loss: 0.4374 - dense_3_loss: 0.5876 - val_loss: 0.9953 - val_dense_2_loss: 0.4359 - val_dense_3_loss: 0.5594\n",
      "Epoch 4/100\n",
      "363/363 [==============================] - 1s 3ms/step - loss: 0.9447 - dense_2_loss: 0.4116 - dense_3_loss: 0.5331 - val_loss: 0.9568 - val_dense_2_loss: 0.4229 - val_dense_3_loss: 0.5338\n",
      "Epoch 5/100\n",
      "363/363 [==============================] - 1s 3ms/step - loss: 0.9054 - dense_2_loss: 0.4011 - dense_3_loss: 0.5043 - val_loss: 0.9130 - val_dense_2_loss: 0.4078 - val_dense_3_loss: 0.5052\n",
      "Epoch 6/100\n",
      "363/363 [==============================] - 1s 3ms/step - loss: 0.8643 - dense_2_loss: 0.3836 - dense_3_loss: 0.4808 - val_loss: 0.8757 - val_dense_2_loss: 0.3971 - val_dense_3_loss: 0.4786\n",
      "Epoch 7/100\n",
      "363/363 [==============================] - 1s 3ms/step - loss: 0.8461 - dense_2_loss: 0.3809 - dense_3_loss: 0.4652 - val_loss: 0.8755 - val_dense_2_loss: 0.3971 - val_dense_3_loss: 0.4784\n",
      "Epoch 8/100\n",
      "363/363 [==============================] - 1s 3ms/step - loss: 0.8109 - dense_2_loss: 0.3643 - dense_3_loss: 0.4466 - val_loss: 0.8343 - val_dense_2_loss: 0.3816 - val_dense_3_loss: 0.4527\n",
      "Epoch 9/100\n",
      "363/363 [==============================] - 1s 3ms/step - loss: 0.8036 - dense_2_loss: 0.3627 - dense_3_loss: 0.4409 - val_loss: 0.8435 - val_dense_2_loss: 0.3858 - val_dense_3_loss: 0.4578\n",
      "Epoch 10/100\n",
      "363/363 [==============================] - 1s 4ms/step - loss: 0.7804 - dense_2_loss: 0.3525 - dense_3_loss: 0.4279 - val_loss: 0.8441 - val_dense_2_loss: 0.3842 - val_dense_3_loss: 0.4599\n",
      "Epoch 11/100\n",
      "363/363 [==============================] - 1s 4ms/step - loss: 0.7755 - dense_2_loss: 0.3520 - dense_3_loss: 0.4235 - val_loss: 0.8140 - val_dense_2_loss: 0.3679 - val_dense_3_loss: 0.4461\n",
      "Epoch 12/100\n",
      "363/363 [==============================] - 1s 4ms/step - loss: 0.7638 - dense_2_loss: 0.3489 - dense_3_loss: 0.4149 - val_loss: 0.7785 - val_dense_2_loss: 0.3528 - val_dense_3_loss: 0.4257\n",
      "Epoch 13/100\n",
      "363/363 [==============================] - 1s 4ms/step - loss: 0.7494 - dense_2_loss: 0.3412 - dense_3_loss: 0.4082 - val_loss: 0.7634 - val_dense_2_loss: 0.3492 - val_dense_3_loss: 0.4142\n",
      "Epoch 14/100\n",
      "363/363 [==============================] - 1s 3ms/step - loss: 0.7490 - dense_2_loss: 0.3421 - dense_3_loss: 0.4069 - val_loss: 0.7907 - val_dense_2_loss: 0.3681 - val_dense_3_loss: 0.4227\n",
      "Epoch 15/100\n",
      "363/363 [==============================] - 1s 3ms/step - loss: 0.7607 - dense_2_loss: 0.3554 - dense_3_loss: 0.4053 - val_loss: 0.7701 - val_dense_2_loss: 0.3556 - val_dense_3_loss: 0.4145\n",
      "Epoch 16/100\n",
      "363/363 [==============================] - 1s 3ms/step - loss: 0.7397 - dense_2_loss: 0.3370 - dense_3_loss: 0.4027 - val_loss: 0.7600 - val_dense_2_loss: 0.3477 - val_dense_3_loss: 0.4123\n",
      "Epoch 17/100\n",
      "363/363 [==============================] - 1s 3ms/step - loss: 0.7318 - dense_2_loss: 0.3337 - dense_3_loss: 0.3980 - val_loss: 0.7707 - val_dense_2_loss: 0.3566 - val_dense_3_loss: 0.4142\n",
      "Epoch 18/100\n",
      "363/363 [==============================] - 1s 3ms/step - loss: 0.7273 - dense_2_loss: 0.3324 - dense_3_loss: 0.3949 - val_loss: 0.7632 - val_dense_2_loss: 0.3493 - val_dense_3_loss: 0.4139\n",
      "Epoch 19/100\n",
      "363/363 [==============================] - 1s 3ms/step - loss: 0.7238 - dense_2_loss: 0.3315 - dense_3_loss: 0.3924 - val_loss: 0.7326 - val_dense_2_loss: 0.3371 - val_dense_3_loss: 0.3955\n",
      "Epoch 20/100\n",
      "363/363 [==============================] - 1s 3ms/step - loss: 0.7183 - dense_2_loss: 0.3277 - dense_3_loss: 0.3907 - val_loss: 0.8197 - val_dense_2_loss: 0.3690 - val_dense_3_loss: 0.4507\n",
      "Epoch 21/100\n",
      "363/363 [==============================] - 1s 3ms/step - loss: 0.7179 - dense_2_loss: 0.3284 - dense_3_loss: 0.3895 - val_loss: 0.7304 - val_dense_2_loss: 0.3338 - val_dense_3_loss: 0.3967\n",
      "Epoch 22/100\n",
      "363/363 [==============================] - 1s 3ms/step - loss: 0.7226 - dense_2_loss: 0.3325 - dense_3_loss: 0.3901 - val_loss: 0.7383 - val_dense_2_loss: 0.3374 - val_dense_3_loss: 0.4009\n",
      "Epoch 23/100\n",
      "363/363 [==============================] - 1s 3ms/step - loss: 0.7224 - dense_2_loss: 0.3332 - dense_3_loss: 0.3892 - val_loss: 0.7430 - val_dense_2_loss: 0.3433 - val_dense_3_loss: 0.3996\n",
      "Epoch 24/100\n",
      "363/363 [==============================] - 1s 3ms/step - loss: 0.7104 - dense_2_loss: 0.3254 - dense_3_loss: 0.3850 - val_loss: 0.7153 - val_dense_2_loss: 0.3293 - val_dense_3_loss: 0.3860\n",
      "Epoch 25/100\n",
      "363/363 [==============================] - 1s 3ms/step - loss: 0.7083 - dense_2_loss: 0.3261 - dense_3_loss: 0.3822 - val_loss: 0.7180 - val_dense_2_loss: 0.3292 - val_dense_3_loss: 0.3888\n",
      "Epoch 26/100\n",
      "363/363 [==============================] - 1s 3ms/step - loss: 0.7033 - dense_2_loss: 0.3224 - dense_3_loss: 0.3809 - val_loss: 0.7852 - val_dense_2_loss: 0.3589 - val_dense_3_loss: 0.4263\n",
      "Epoch 27/100\n",
      "363/363 [==============================] - 1s 3ms/step - loss: 0.7047 - dense_2_loss: 0.3235 - dense_3_loss: 0.3812 - val_loss: 0.7528 - val_dense_2_loss: 0.3463 - val_dense_3_loss: 0.4065\n",
      "Epoch 28/100\n",
      "363/363 [==============================] - 1s 3ms/step - loss: 0.7012 - dense_2_loss: 0.3214 - dense_3_loss: 0.3799 - val_loss: 0.7240 - val_dense_2_loss: 0.3313 - val_dense_3_loss: 0.3928\n",
      "Epoch 29/100\n",
      "363/363 [==============================] - 1s 3ms/step - loss: 0.6991 - dense_2_loss: 0.3201 - dense_3_loss: 0.3790 - val_loss: 0.7089 - val_dense_2_loss: 0.3292 - val_dense_3_loss: 0.3797\n",
      "Epoch 30/100\n",
      "363/363 [==============================] - 1s 3ms/step - loss: 0.7001 - dense_2_loss: 0.3216 - dense_3_loss: 0.3785 - val_loss: 0.7204 - val_dense_2_loss: 0.3299 - val_dense_3_loss: 0.3905\n",
      "Epoch 31/100\n",
      "363/363 [==============================] - 1s 3ms/step - loss: 0.6953 - dense_2_loss: 0.3191 - dense_3_loss: 0.3762 - val_loss: 0.6996 - val_dense_2_loss: 0.3235 - val_dense_3_loss: 0.3761\n",
      "Epoch 32/100\n",
      "363/363 [==============================] - 1s 3ms/step - loss: 0.6951 - dense_2_loss: 0.3195 - dense_3_loss: 0.3756 - val_loss: 0.7154 - val_dense_2_loss: 0.3281 - val_dense_3_loss: 0.3874\n",
      "Epoch 33/100\n",
      "363/363 [==============================] - 1s 3ms/step - loss: 0.6914 - dense_2_loss: 0.3183 - dense_3_loss: 0.3730 - val_loss: 0.7176 - val_dense_2_loss: 0.3295 - val_dense_3_loss: 0.3881\n",
      "Epoch 34/100\n",
      "363/363 [==============================] - 1s 3ms/step - loss: 0.6872 - dense_2_loss: 0.3161 - dense_3_loss: 0.3712 - val_loss: 0.7252 - val_dense_2_loss: 0.3345 - val_dense_3_loss: 0.3907\n",
      "Epoch 35/100\n",
      "363/363 [==============================] - 1s 3ms/step - loss: 0.6916 - dense_2_loss: 0.3177 - dense_3_loss: 0.3739 - val_loss: 0.7490 - val_dense_2_loss: 0.3395 - val_dense_3_loss: 0.4095\n",
      "Epoch 36/100\n",
      "363/363 [==============================] - 1s 3ms/step - loss: 0.6838 - dense_2_loss: 0.3146 - dense_3_loss: 0.3692 - val_loss: 0.7454 - val_dense_2_loss: 0.3407 - val_dense_3_loss: 0.4048\n"
     ]
    }
   ],
   "source": [
    "x_train_scaled_wide = x_train_scaled[:, :5]\n",
    "x_train_scaled_deep = x_train_scaled[:, 2:]\n",
    "x_valid_scaled_wide = x_valid_scaled[:, :5]\n",
    "x_valid_scaled_deep = x_valid_scaled[:, 2:]\n",
    "x_test_scaled_wide = x_test_scaled[:, :5]\n",
    "x_test_scaled_deep = x_test_scaled[:, 2:]\n",
    "\n",
    "#因为有多个output，所以需要有多个y\n",
    "history = model.fit([x_train_scaled_wide, x_train_scaled_deep],\n",
    "                    [y_train, y_train],\n",
    "                    validation_data = (\n",
    "                        [x_valid_scaled_wide, x_valid_scaled_deep],\n",
    "                        [y_valid, y_valid]),\n",
    "                    epochs = 100,\n",
    "                    callbacks = callbacks)"
   ]
  },
  {
   "cell_type": "code",
   "execution_count": 7,
   "metadata": {},
   "outputs": [
    {
     "name": "stdout",
     "output_type": "stream",
     "text": [
      "{'loss': [1.9183255434036255, 1.1451853513717651, 1.0250470638275146, 0.9447388648986816, 0.905427873134613, 0.8643341660499573, 0.8460774421691895, 0.8109429478645325, 0.8035740852355957, 0.7804125547409058, 0.7754887938499451, 0.7637811303138733, 0.7494133710861206, 0.7490078806877136, 0.7607014179229736, 0.7396888136863708, 0.7317562699317932, 0.7272745966911316, 0.7238455414772034, 0.7183222770690918, 0.7179284691810608, 0.72255539894104, 0.72242671251297, 0.7103844285011292, 0.7083064913749695, 0.7032963633537292, 0.7046547532081604, 0.7012224793434143, 0.6990538239479065, 0.7001014351844788, 0.6952642798423767, 0.6951227188110352, 0.691351592540741, 0.6872488856315613, 0.6916384696960449, 0.6838299632072449], 'dense_2_loss': [0.7391454577445984, 0.4719946086406708, 0.43742799758911133, 0.4115968346595764, 0.40114298462867737, 0.38357073068618774, 0.38090458512306213, 0.3643074035644531, 0.3626704514026642, 0.35248932242393494, 0.3520103693008423, 0.34888359904289246, 0.341170996427536, 0.3421104848384857, 0.355373352766037, 0.33700627088546753, 0.33374926447868347, 0.33238887786865234, 0.33147379755973816, 0.32767024636268616, 0.3284083604812622, 0.33248335123062134, 0.33322522044181824, 0.32540059089660645, 0.3261032998561859, 0.3223645091056824, 0.3234761357307434, 0.3213558793067932, 0.32009705901145935, 0.32164570689201355, 0.31905248761177063, 0.3195289671421051, 0.31833118200302124, 0.3160775303840637, 0.31771424412727356, 0.31460580229759216], 'dense_3_loss': [1.1791784763336182, 0.6731906533241272, 0.5876193642616272, 0.5331414341926575, 0.5042842030525208, 0.4807632267475128, 0.4651729166507721, 0.4466356039047241, 0.4409036338329315, 0.42792317271232605, 0.4234783351421356, 0.41489750146865845, 0.40824219584465027, 0.4068971872329712, 0.4053283631801605, 0.4026826024055481, 0.3980073928833008, 0.39488574862480164, 0.3923722505569458, 0.39065253734588623, 0.38952016830444336, 0.3900720477104187, 0.38920167088508606, 0.3849836587905884, 0.38220301270484924, 0.3809320032596588, 0.3811784088611603, 0.3798665702342987, 0.3789564371109009, 0.37845578789711, 0.37621167302131653, 0.37559396028518677, 0.3730202615261078, 0.3711718022823334, 0.37392422556877136, 0.36922428011894226], 'val_loss': [1.739982008934021, 1.075602650642395, 0.9953215718269348, 0.9567620158195496, 0.9130004644393921, 0.8757073879241943, 0.8755131959915161, 0.834273099899292, 0.8435319662094116, 0.8440913558006287, 0.8139659762382507, 0.7785419225692749, 0.7634240388870239, 0.7907116413116455, 0.7701370120048523, 0.7599945068359375, 0.770735502243042, 0.7631592154502869, 0.7325971126556396, 0.8196978569030762, 0.7304443717002869, 0.7382838129997253, 0.7429554462432861, 0.7153180241584778, 0.7179978489875793, 0.7851568460464478, 0.7527547478675842, 0.7240338325500488, 0.7088664174079895, 0.7203829288482666, 0.6995548605918884, 0.7154489755630493, 0.7175670862197876, 0.7251682877540588, 0.7490077018737793, 0.7454443573951721], 'val_dense_2_loss': [0.5861979126930237, 0.46017128229141235, 0.43587368726730347, 0.422937273979187, 0.4078305959701538, 0.39706236124038696, 0.3971126079559326, 0.38157278299331665, 0.38576823472976685, 0.3842185437679291, 0.36786916851997375, 0.3528427183628082, 0.3491952121257782, 0.36805278062820435, 0.355608195066452, 0.34769463539123535, 0.35655733942985535, 0.34927183389663696, 0.3370804786682129, 0.3690249025821686, 0.33378881216049194, 0.3374207019805908, 0.343314528465271, 0.3292970359325409, 0.3292204439640045, 0.35885438323020935, 0.34626439213752747, 0.33125561475753784, 0.3291826546192169, 0.3299271762371063, 0.3234933316707611, 0.32807302474975586, 0.32946380972862244, 0.3344774544239044, 0.339530348777771, 0.34066689014434814], 'val_dense_3_loss': [1.1537846326828003, 0.6154313087463379, 0.5594481825828552, 0.5338245034217834, 0.5051697492599487, 0.47864487767219543, 0.47840046882629395, 0.45270004868507385, 0.45776376128196716, 0.45987269282341003, 0.4460967481136322, 0.42569929361343384, 0.4142288565635681, 0.4226589500904083, 0.41452857851982117, 0.41229990124702454, 0.4141780138015747, 0.41388729214668274, 0.3955167829990387, 0.45067298412323, 0.39665549993515015, 0.40086308121681213, 0.39964091777801514, 0.38602086901664734, 0.3887772560119629, 0.42630261182785034, 0.40649065375328064, 0.3927781283855438, 0.3796837031841278, 0.3904559314250946, 0.3760615885257721, 0.38737601041793823, 0.3881032466888428, 0.3906911313533783, 0.4094776511192322, 0.40477755665779114]}\n"
     ]
    }
   ],
   "source": [
    "print(history.history)"
   ]
  },
  {
   "cell_type": "code",
   "execution_count": 8,
   "metadata": {},
   "outputs": [
    {
     "data": {
      "image/png": "[encoded data removed]",
      "text/plain": [
       "<Figure size 576x360 with 1 Axes>"
      ]
     },
     "metadata": {
      "needs_background": "light"
     },
     "output_type": "display_data"
    }
   ],
   "source": [
    "def plot_learning_curves(history):\n",
    "    pd.DataFrame(history.history).plot(figsize=(8, 5))\n",
    "    plt.grid(True)\n",
    "    plt.gca().set_ylim(0, 2)\n",
    "    plt.show()\n",
    "plot_learning_curves(history)"
   ]
  },
  {
   "cell_type": "code",
   "execution_count": 9,
   "metadata": {},
   "outputs": [
    {
     "data": {
      "text/plain": [
       "[0.7420355081558228, 0.3427351713180542, 0.39930030703544617]"
      ]
     },
     "execution_count": 9,
     "metadata": {},
     "output_type": "execute_result"
    }
   ],
   "source": [
    "model.evaluate([x_test_scaled_wide, x_test_scaled_deep],\n",
    "               [y_test, y_test], verbose=0)"
   ]
  },
  {
   "cell_type": "code",
   "execution_count": null,
   "metadata": {},
   "outputs": [],
   "source": []
  }
 ],
 "metadata": {
  "kernelspec": {
   "display_name": "Python 3",
   "language": "python",
   "name": "python3"
  },
  "language_info": {
   "codemirror_mode": {
    "name": "ipython",
    "version": 3
   },
   "file_extension": ".py",
   "mimetype": "text/x-python",
   "name": "python",
   "nbconvert_exporter": "python",
   "pygments_lexer": "ipython3",
   "version": "3.6.9"
  }
 },
 "nbformat": 4,
 "nbformat_minor": 2
}
