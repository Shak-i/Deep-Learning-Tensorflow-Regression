{
 "cells": [
  {
   "cell_type": "code",
   "execution_count": 1,
   "metadata": {},
   "outputs": [
    {
     "name": "stdout",
     "output_type": "stream",
     "text": [
      "2.2.0\n",
      "sys.version_info(major=3, minor=6, micro=9, releaselevel='final', serial=0)\n",
      "matplotlib 3.3.4\n",
      "numpy 1.19.5\n",
      "pandas 1.1.5\n",
      "sklearn 0.24.2\n",
      "tensorflow 2.2.0\n",
      "tensorflow.keras 2.3.0-tf\n"
     ]
    }
   ],
   "source": [
    "import matplotlib as mpl\n",
    "import matplotlib.pyplot as plt\n",
    "%matplotlib inline\n",
    "import numpy as np\n",
    "import sklearn\n",
    "import pandas as pd\n",
    "import os\n",
    "import sys\n",
    "import time\n",
    "import tensorflow as tf\n",
    "\n",
    "from tensorflow import keras\n",
    "\n",
    "print(tf.__version__)\n",
    "print(sys.version_info)\n",
    "for module in mpl, np, pd, sklearn, tf, keras:\n",
    "    print(module.__name__, module.__version__)"
   ]
  },
  {
   "cell_type": "code",
   "execution_count": 3,
   "metadata": {},
   "outputs": [],
   "source": [
    "from sklearn import datasets\n",
    "import tarfile\n",
    "data_home = datasets.get_data_home()\n",
    "archive_path = os.path.join(data_home, 'cal_housing.tgz')\n",
    "with tarfile.open(mode=\"r:gz\", name=archive_path) as f:\n",
    "     cal_housing = np.loadtxt(\n",
    "         f.extractfile(\"CaliforniaHousing/cal_housing.data\"), delimiter=\",\"\n",
    "     )\n",
    "     # Columns are not in the same order compared to the previous\n",
    "     # URL resource on lib.stat.cmu.edu\n",
    "     columns_index = [8, 7, 2, 3, 4, 5, 6, 1, 0]\n",
    "     cal_housing = cal_housing[:, columns_index]\n",
    "       \n",
    "feature_names = [\n",
    "    \"MedInc\",\n",
    "    \"HouseAge\",\n",
    "    \"AveRooms\",\n",
    "    \"AveBedrms\",\n",
    "    \"Population\",\n",
    "    \"AveOccup\",\n",
    "    \"Latitude\",\n",
    "    \"Longitude\",\n",
    "]\n",
    "\n",
    "target, data = cal_housing[:, 0], cal_housing[:, 1:]\n",
    "\n",
    "# avg rooms = total rooms / households\n",
    "data[:, 2] /= data[:, 5]\n",
    "\n",
    "# avg bed rooms = total bed rooms / households\n",
    "data[:, 3] /= data[:, 5]\n",
    "\n",
    "# avg occupancy = population / households\n",
    "data[:, 5] = data[:, 4] / data[:, 5]\n",
    "\n",
    "# target in units of 100,000\n",
    "target = target / 100000.0\n"
   ]
  },
  {
   "cell_type": "code",
   "execution_count": 5,
   "metadata": {},
   "outputs": [
    {
     "name": "stdout",
     "output_type": "stream",
     "text": [
      "(11610, 8) (11610,)\n",
      "(3870, 8) (3870,)\n",
      "(5160, 8) (5160,)\n"
     ]
    }
   ],
   "source": [
    "from sklearn.model_selection import train_test_split\n",
    "\n",
    "x_train_all, x_test, y_train_all, y_test = train_test_split(\n",
    "    data,target, random_state = 7)\n",
    "x_train, x_valid, y_train, y_valid = train_test_split(\n",
    "    x_train_all, y_train_all, random_state = 11)\n",
    "print(x_train.shape, y_train.shape)\n",
    "print(x_valid.shape, y_valid.shape)\n",
    "print(x_test.shape, y_test.shape)\n"
   ]
  },
  {
   "cell_type": "code",
   "execution_count": 6,
   "metadata": {},
   "outputs": [],
   "source": [
    "from sklearn.preprocessing import StandardScaler\n",
    "\n",
    "scaler = StandardScaler()\n",
    "x_train_scaled = scaler.fit_transform(x_train)\n",
    "x_valid_scaled = scaler.transform(x_valid)\n",
    "x_test_scaled = scaler.transform(x_test)"
   ]
  },
  {
   "cell_type": "code",
   "execution_count": 7,
   "metadata": {},
   "outputs": [
    {
     "name": "stdout",
     "output_type": "stream",
     "text": [
      "(8,)\n"
     ]
    }
   ],
   "source": [
    "print(x_train.shape[1:])"
   ]
  },
  {
   "cell_type": "code",
   "execution_count": 8,
   "metadata": {},
   "outputs": [
    {
     "name": "stdout",
     "output_type": "stream",
     "text": [
      "Tensor(\"input_1:0\", shape=(None, 8), dtype=float32)\n",
      "Model: \"model\"\n",
      "__________________________________________________________________________________________________\n",
      "Layer (type)                    Output Shape         Param #     Connected to                     \n",
      "==================================================================================================\n",
      "input_1 (InputLayer)            [(None, 8)]          0                                            \n",
      "__________________________________________________________________________________________________\n",
      "dense (Dense)                   (None, 30)           270         input_1[0][0]                    \n",
      "__________________________________________________________________________________________________\n",
      "dense_1 (Dense)                 (None, 30)           930         dense[0][0]                      \n",
      "__________________________________________________________________________________________________\n",
      "concatenate (Concatenate)       (None, 38)           0           input_1[0][0]                    \n",
      "                                                                 dense_1[0][0]                    \n",
      "__________________________________________________________________________________________________\n",
      "dense_2 (Dense)                 (None, 1)            39          concatenate[0][0]                \n",
      "==================================================================================================\n",
      "Total params: 1,239\n",
      "Trainable params: 1,239\n",
      "Non-trainable params: 0\n",
      "__________________________________________________________________________________________________\n"
     ]
    }
   ],
   "source": [
    "#这部分在搭建deep模型\n",
    "# 函数式API 功能API,和之前不一样\n",
    "input = keras.layers.Input(shape=x_train.shape[1:])\n",
    "print(input)\n",
    "#input作为输入\n",
    "hidden1 = keras.layers.Dense(30, activation='relu')(input)\n",
    "#hidden1作为输入\n",
    "hidden2 = keras.layers.Dense(30, activation='relu')(hidden1)\n",
    "# 复合函数: f(x) = h(g(x))\n",
    "\n",
    "#假设wide模型和deep模型的输入是一样的，wide是input，deep是hidden2对吗？\n",
    "concat = keras.layers.concatenate([input, hidden2])\n",
    "output = keras.layers.Dense(1)(concat)\n",
    "\n",
    "#然后定义model，放入input，output\n",
    "model = keras.models.Model(inputs = [input],\n",
    "                           outputs = [output])\n",
    "\n",
    "model.summary()\n",
    "model.compile(loss=\"mean_squared_error\",\n",
    "              optimizer = keras.optimizers.SGD(0.001))\n",
    "callbacks = [keras.callbacks.EarlyStopping(\n",
    "    patience=5, min_delta=1e-3)]"
   ]
  },
  {
   "cell_type": "code",
   "execution_count": 9,
   "metadata": {},
   "outputs": [
    {
     "data": {
      "text/plain": [
       "[<tensorflow.python.keras.engine.input_layer.InputLayer at 0x7f14dfacee48>,\n",
       " <tensorflow.python.keras.layers.core.Dense at 0x7f14dfd403c8>,\n",
       " <tensorflow.python.keras.layers.core.Dense at 0x7f14dfd40c50>,\n",
       " <tensorflow.python.keras.layers.merge.Concatenate at 0x7f14dfd08c18>,\n",
       " <tensorflow.python.keras.layers.core.Dense at 0x7f14e2e53978>]"
      ]
     },
     "execution_count": 9,
     "metadata": {},
     "output_type": "execute_result"
    }
   ],
   "source": [
    "model.layers"
   ]
  },
  {
   "cell_type": "code",
   "execution_count": 10,
   "metadata": {},
   "outputs": [
    {
     "name": "stdout",
     "output_type": "stream",
     "text": [
      "Epoch 1/100\n",
      "363/363 [==============================] - 1s 3ms/step - loss: 1.9644 - val_loss: 0.9328\n",
      "Epoch 2/100\n",
      "363/363 [==============================] - 1s 3ms/step - loss: 0.6909 - val_loss: 0.7194\n",
      "Epoch 3/100\n",
      "363/363 [==============================] - 1s 3ms/step - loss: 0.6326 - val_loss: 0.6761\n",
      "Epoch 4/100\n",
      "363/363 [==============================] - 1s 3ms/step - loss: 0.6012 - val_loss: 0.6415\n",
      "Epoch 5/100\n",
      "363/363 [==============================] - 1s 3ms/step - loss: 0.5703 - val_loss: 0.6095\n",
      "Epoch 6/100\n",
      "363/363 [==============================] - 1s 3ms/step - loss: 0.5473 - val_loss: 0.5843\n",
      "Epoch 7/100\n",
      "363/363 [==============================] - 1s 3ms/step - loss: 0.5312 - val_loss: 0.5627\n",
      "Epoch 8/100\n",
      "363/363 [==============================] - 1s 3ms/step - loss: 0.5123 - val_loss: 0.5439\n",
      "Epoch 9/100\n",
      "363/363 [==============================] - 1s 3ms/step - loss: 0.4973 - val_loss: 0.5288\n",
      "Epoch 10/100\n",
      "363/363 [==============================] - 1s 3ms/step - loss: 0.4860 - val_loss: 0.5140\n",
      "Epoch 11/100\n",
      "363/363 [==============================] - 1s 3ms/step - loss: 0.4786 - val_loss: 0.5040\n",
      "Epoch 12/100\n",
      "363/363 [==============================] - 1s 3ms/step - loss: 0.4681 - val_loss: 0.4937\n",
      "Epoch 13/100\n",
      "363/363 [==============================] - 1s 3ms/step - loss: 0.4623 - val_loss: 0.4890\n",
      "Epoch 14/100\n",
      "363/363 [==============================] - 1s 3ms/step - loss: 0.4532 - val_loss: 0.4782\n",
      "Epoch 15/100\n",
      "363/363 [==============================] - 1s 3ms/step - loss: 0.4493 - val_loss: 0.4762\n",
      "Epoch 16/100\n",
      "363/363 [==============================] - 1s 3ms/step - loss: 0.4442 - val_loss: 0.4668\n",
      "Epoch 17/100\n",
      "363/363 [==============================] - 1s 3ms/step - loss: 0.4399 - val_loss: 0.4612\n",
      "Epoch 18/100\n",
      "363/363 [==============================] - 1s 3ms/step - loss: 0.4355 - val_loss: 0.4565\n",
      "Epoch 19/100\n",
      "363/363 [==============================] - 1s 3ms/step - loss: 0.4307 - val_loss: 0.4537\n",
      "Epoch 20/100\n",
      "363/363 [==============================] - 1s 3ms/step - loss: 0.4272 - val_loss: 0.4534\n",
      "Epoch 21/100\n",
      "363/363 [==============================] - 1s 3ms/step - loss: 0.4244 - val_loss: 0.4466\n",
      "Epoch 22/100\n",
      "363/363 [==============================] - 1s 3ms/step - loss: 0.4213 - val_loss: 0.4422\n",
      "Epoch 23/100\n",
      "363/363 [==============================] - 1s 3ms/step - loss: 0.4182 - val_loss: 0.4386\n",
      "Epoch 24/100\n",
      "363/363 [==============================] - 1s 3ms/step - loss: 0.4156 - val_loss: 0.4369\n",
      "Epoch 25/100\n",
      "363/363 [==============================] - 1s 3ms/step - loss: 0.4125 - val_loss: 0.4369\n",
      "Epoch 26/100\n",
      "363/363 [==============================] - 1s 3ms/step - loss: 0.4108 - val_loss: 0.4301\n",
      "Epoch 27/100\n",
      "363/363 [==============================] - 1s 3ms/step - loss: 0.4077 - val_loss: 0.4290\n",
      "Epoch 28/100\n",
      "363/363 [==============================] - 1s 3ms/step - loss: 0.4062 - val_loss: 0.4253\n",
      "Epoch 29/100\n",
      "363/363 [==============================] - 1s 3ms/step - loss: 0.4040 - val_loss: 0.4228\n",
      "Epoch 30/100\n",
      "363/363 [==============================] - 1s 3ms/step - loss: 0.4017 - val_loss: 0.4206\n",
      "Epoch 31/100\n",
      "363/363 [==============================] - 1s 3ms/step - loss: 0.4002 - val_loss: 0.4175\n",
      "Epoch 32/100\n",
      "363/363 [==============================] - 1s 3ms/step - loss: 0.3981 - val_loss: 0.4160\n",
      "Epoch 33/100\n",
      "363/363 [==============================] - 1s 3ms/step - loss: 0.3964 - val_loss: 0.4138\n",
      "Epoch 34/100\n",
      "363/363 [==============================] - 1s 3ms/step - loss: 0.3952 - val_loss: 0.4123\n",
      "Epoch 35/100\n",
      "363/363 [==============================] - 1s 3ms/step - loss: 0.3931 - val_loss: 0.4121\n",
      "Epoch 36/100\n",
      "363/363 [==============================] - 1s 3ms/step - loss: 0.3916 - val_loss: 0.4090\n",
      "Epoch 37/100\n",
      "363/363 [==============================] - 1s 3ms/step - loss: 0.3902 - val_loss: 0.4072\n",
      "Epoch 38/100\n",
      "363/363 [==============================] - 1s 3ms/step - loss: 0.3884 - val_loss: 0.4052\n",
      "Epoch 39/100\n",
      "363/363 [==============================] - 1s 3ms/step - loss: 0.3872 - val_loss: 0.4036\n",
      "Epoch 40/100\n",
      "363/363 [==============================] - 1s 3ms/step - loss: 0.3854 - val_loss: 0.4020\n",
      "Epoch 41/100\n",
      "363/363 [==============================] - 1s 3ms/step - loss: 0.3842 - val_loss: 0.4003\n",
      "Epoch 42/100\n",
      "363/363 [==============================] - 1s 3ms/step - loss: 0.3824 - val_loss: 0.3998\n",
      "Epoch 43/100\n",
      "363/363 [==============================] - 1s 3ms/step - loss: 0.3815 - val_loss: 0.3970\n",
      "Epoch 44/100\n",
      "363/363 [==============================] - 1s 3ms/step - loss: 0.3797 - val_loss: 0.3978\n",
      "Epoch 45/100\n",
      "363/363 [==============================] - 1s 3ms/step - loss: 0.3790 - val_loss: 0.3949\n",
      "Epoch 46/100\n",
      "363/363 [==============================] - 1s 3ms/step - loss: 0.3778 - val_loss: 0.3939\n",
      "Epoch 47/100\n",
      "363/363 [==============================] - 1s 3ms/step - loss: 0.3767 - val_loss: 0.3921\n",
      "Epoch 48/100\n",
      "363/363 [==============================] - 1s 3ms/step - loss: 0.3751 - val_loss: 0.3915\n",
      "Epoch 49/100\n",
      "363/363 [==============================] - 1s 3ms/step - loss: 0.3739 - val_loss: 0.3903\n",
      "Epoch 50/100\n",
      "363/363 [==============================] - 1s 3ms/step - loss: 0.3735 - val_loss: 0.3886\n",
      "Epoch 51/100\n",
      "363/363 [==============================] - 1s 3ms/step - loss: 0.3715 - val_loss: 0.3873\n",
      "Epoch 52/100\n",
      "363/363 [==============================] - 1s 3ms/step - loss: 0.3712 - val_loss: 0.3862\n",
      "Epoch 53/100\n",
      "363/363 [==============================] - 1s 3ms/step - loss: 0.3700 - val_loss: 0.3872\n",
      "Epoch 54/100\n",
      "363/363 [==============================] - 1s 3ms/step - loss: 0.3694 - val_loss: 0.3849\n",
      "Epoch 55/100\n",
      "363/363 [==============================] - 1s 3ms/step - loss: 0.3678 - val_loss: 0.3833\n",
      "Epoch 56/100\n",
      "363/363 [==============================] - 1s 3ms/step - loss: 0.3670 - val_loss: 0.3831\n",
      "Epoch 57/100\n",
      "363/363 [==============================] - 1s 3ms/step - loss: 0.3668 - val_loss: 0.3817\n",
      "Epoch 58/100\n",
      "363/363 [==============================] - 1s 3ms/step - loss: 0.3654 - val_loss: 0.3809\n",
      "Epoch 59/100\n",
      "363/363 [==============================] - 1s 3ms/step - loss: 0.3640 - val_loss: 0.3798\n",
      "Epoch 60/100\n",
      "363/363 [==============================] - 1s 3ms/step - loss: 0.3634 - val_loss: 0.3794\n",
      "Epoch 61/100\n",
      "363/363 [==============================] - 1s 3ms/step - loss: 0.3626 - val_loss: 0.3786\n",
      "Epoch 62/100\n",
      "363/363 [==============================] - 1s 4ms/step - loss: 0.3618 - val_loss: 0.3776\n",
      "Epoch 63/100\n",
      "363/363 [==============================] - 1s 3ms/step - loss: 0.3619 - val_loss: 0.3773\n",
      "Epoch 64/100\n",
      "363/363 [==============================] - 1s 4ms/step - loss: 0.3600 - val_loss: 0.3772\n",
      "Epoch 65/100\n",
      "363/363 [==============================] - 1s 4ms/step - loss: 0.3593 - val_loss: 0.3751\n",
      "Epoch 66/100\n",
      "363/363 [==============================] - 1s 3ms/step - loss: 0.3586 - val_loss: 0.3745\n",
      "Epoch 67/100\n",
      "363/363 [==============================] - 1s 4ms/step - loss: 0.3581 - val_loss: 0.3728\n",
      "Epoch 68/100\n",
      "363/363 [==============================] - 1s 3ms/step - loss: 0.3575 - val_loss: 0.3734\n",
      "Epoch 69/100\n",
      "363/363 [==============================] - 1s 3ms/step - loss: 0.3566 - val_loss: 0.3731\n",
      "Epoch 70/100\n",
      "363/363 [==============================] - 1s 3ms/step - loss: 0.3566 - val_loss: 0.3740\n",
      "Epoch 71/100\n",
      "363/363 [==============================] - 1s 3ms/step - loss: 0.3550 - val_loss: 0.3712\n",
      "Epoch 72/100\n",
      "363/363 [==============================] - 1s 3ms/step - loss: 0.3544 - val_loss: 0.3706\n",
      "Epoch 73/100\n",
      "363/363 [==============================] - 1s 3ms/step - loss: 0.3542 - val_loss: 0.3697\n",
      "Epoch 74/100\n",
      "363/363 [==============================] - 1s 3ms/step - loss: 0.3533 - val_loss: 0.3683\n",
      "Epoch 75/100\n",
      "363/363 [==============================] - 1s 3ms/step - loss: 0.3521 - val_loss: 0.3680\n",
      "Epoch 76/100\n",
      "363/363 [==============================] - 1s 3ms/step - loss: 0.3523 - val_loss: 0.3663\n",
      "Epoch 77/100\n",
      "363/363 [==============================] - 1s 3ms/step - loss: 0.3516 - val_loss: 0.3658\n",
      "Epoch 78/100\n",
      "363/363 [==============================] - 1s 3ms/step - loss: 0.3503 - val_loss: 0.3658\n",
      "Epoch 79/100\n",
      "363/363 [==============================] - 1s 3ms/step - loss: 0.3496 - val_loss: 0.3635\n",
      "Epoch 80/100\n",
      "363/363 [==============================] - 1s 3ms/step - loss: 0.3489 - val_loss: 0.3643\n",
      "Epoch 81/100\n"
     ]
    },
    {
     "name": "stdout",
     "output_type": "stream",
     "text": [
      "363/363 [==============================] - 1s 3ms/step - loss: 0.3485 - val_loss: 0.3630\n",
      "Epoch 82/100\n",
      "363/363 [==============================] - 1s 3ms/step - loss: 0.3478 - val_loss: 0.3621\n",
      "Epoch 83/100\n",
      "363/363 [==============================] - 1s 3ms/step - loss: 0.3472 - val_loss: 0.3626\n",
      "Epoch 84/100\n",
      "363/363 [==============================] - 1s 3ms/step - loss: 0.3467 - val_loss: 0.3607\n",
      "Epoch 85/100\n",
      "363/363 [==============================] - 1s 3ms/step - loss: 0.3461 - val_loss: 0.3615\n",
      "Epoch 86/100\n",
      "363/363 [==============================] - 1s 3ms/step - loss: 0.3453 - val_loss: 0.3616\n",
      "Epoch 87/100\n",
      "363/363 [==============================] - 1s 3ms/step - loss: 0.3456 - val_loss: 0.3598\n",
      "Epoch 88/100\n",
      "363/363 [==============================] - 1s 3ms/step - loss: 0.3444 - val_loss: 0.3602\n",
      "Epoch 89/100\n",
      "363/363 [==============================] - 1s 3ms/step - loss: 0.3441 - val_loss: 0.3588\n",
      "Epoch 90/100\n",
      "363/363 [==============================] - 1s 3ms/step - loss: 0.3439 - val_loss: 0.3580\n",
      "Epoch 91/100\n",
      "363/363 [==============================] - 1s 3ms/step - loss: 0.3427 - val_loss: 0.3568\n",
      "Epoch 92/100\n",
      "363/363 [==============================] - 1s 3ms/step - loss: 0.3428 - val_loss: 0.3563\n",
      "Epoch 93/100\n",
      "363/363 [==============================] - 1s 3ms/step - loss: 0.3417 - val_loss: 0.3570\n",
      "Epoch 94/100\n",
      "363/363 [==============================] - 1s 3ms/step - loss: 0.3420 - val_loss: 0.3568\n",
      "Epoch 95/100\n",
      "363/363 [==============================] - 1s 3ms/step - loss: 0.3417 - val_loss: 0.3555\n",
      "Epoch 96/100\n",
      "363/363 [==============================] - 1s 3ms/step - loss: 0.3406 - val_loss: 0.3549\n",
      "Epoch 97/100\n",
      "363/363 [==============================] - 1s 3ms/step - loss: 0.3400 - val_loss: 0.3545\n",
      "Epoch 98/100\n",
      "363/363 [==============================] - 1s 3ms/step - loss: 0.3394 - val_loss: 0.3528\n",
      "Epoch 99/100\n",
      "363/363 [==============================] - 1s 3ms/step - loss: 0.3396 - val_loss: 0.3562\n",
      "Epoch 100/100\n",
      "363/363 [==============================] - 1s 3ms/step - loss: 0.3383 - val_loss: 0.3526\n"
     ]
    }
   ],
   "source": [
    "history = model.fit(x_train_scaled, y_train,\n",
    "                    validation_data = (x_valid_scaled, y_valid),\n",
    "                    epochs = 100,\n",
    "                    callbacks = callbacks)"
   ]
  },
  {
   "cell_type": "code",
   "execution_count": 11,
   "metadata": {},
   "outputs": [
    {
     "name": "stdout",
     "output_type": "stream",
     "text": [
      "{'loss': [1.9644464254379272, 0.6908806562423706, 0.632645308971405, 0.6012195944786072, 0.5702834129333496, 0.5473093390464783, 0.5311700701713562, 0.5123032331466675, 0.4973481297492981, 0.486015647649765, 0.4786088764667511, 0.4680505096912384, 0.4623221755027771, 0.4532012939453125, 0.44928622245788574, 0.44419142603874207, 0.4398549497127533, 0.435501366853714, 0.4306502342224121, 0.42718642950057983, 0.42435190081596375, 0.42134639620780945, 0.41823774576187134, 0.4155751168727875, 0.41253024339675903, 0.4107552766799927, 0.4076864421367645, 0.40625, 0.4039829969406128, 0.4017227292060852, 0.4002068042755127, 0.39812761545181274, 0.3963676393032074, 0.3952043354511261, 0.3930763304233551, 0.3915599584579468, 0.3901793658733368, 0.38842159509658813, 0.3872254192829132, 0.3854489326477051, 0.38418763875961304, 0.3824331760406494, 0.381507933139801, 0.37970423698425293, 0.3790353536605835, 0.3778006136417389, 0.3767005205154419, 0.3751404285430908, 0.3738913834095001, 0.37353333830833435, 0.3715163469314575, 0.371216356754303, 0.37001457810401917, 0.36936086416244507, 0.3678300380706787, 0.3670497238636017, 0.3668398857116699, 0.36539027094841003, 0.36403727531433105, 0.3633723855018616, 0.3626105785369873, 0.3618472218513489, 0.3618833124637604, 0.36000409722328186, 0.35931137204170227, 0.3585931658744812, 0.3581339120864868, 0.3575107753276825, 0.3566177487373352, 0.3565611243247986, 0.35504254698753357, 0.354373961687088, 0.35420793294906616, 0.35333916544914246, 0.3521471917629242, 0.3523081839084625, 0.35160210728645325, 0.3503093421459198, 0.3496246933937073, 0.3489203453063965, 0.3484589159488678, 0.347838819026947, 0.347173273563385, 0.34670087695121765, 0.3460668623447418, 0.34530699253082275, 0.34561654925346375, 0.3444422483444214, 0.34408655762672424, 0.3438771665096283, 0.34266528487205505, 0.3427724838256836, 0.34168052673339844, 0.34196051955223083, 0.34167614579200745, 0.3406399190425873, 0.3400018513202667, 0.3393901288509369, 0.3396173417568207, 0.338347464799881], 'val_loss': [0.9328495264053345, 0.7194010615348816, 0.6760616898536682, 0.6415402293205261, 0.6094633936882019, 0.5843307375907898, 0.5626770853996277, 0.5438773036003113, 0.5287637114524841, 0.5139606595039368, 0.5039619207382202, 0.4937356412410736, 0.48897549510002136, 0.4782402217388153, 0.4762437343597412, 0.46677690744400024, 0.4612126350402832, 0.45645642280578613, 0.4537452161312103, 0.45339617133140564, 0.44657015800476074, 0.4422038495540619, 0.4385862648487091, 0.4369368553161621, 0.43686234951019287, 0.43010571599006653, 0.4290260672569275, 0.42532891035079956, 0.42279765009880066, 0.420624703168869, 0.4175437390804291, 0.41599902510643005, 0.41381844878196716, 0.4123231768608093, 0.41209375858306885, 0.4090454876422882, 0.4072464406490326, 0.40522047877311707, 0.4036106765270233, 0.4019923508167267, 0.4002648890018463, 0.3997876048088074, 0.39697200059890747, 0.39780423045158386, 0.3949381411075592, 0.39391854405403137, 0.3921017646789551, 0.3915073573589325, 0.3903365433216095, 0.3886137902736664, 0.38730546832084656, 0.3861564099788666, 0.3872353434562683, 0.38490837812423706, 0.3833288550376892, 0.3830820322036743, 0.38166388869285583, 0.38088956475257874, 0.37979966402053833, 0.3793903589248657, 0.3786463141441345, 0.3776247501373291, 0.37732982635498047, 0.37724989652633667, 0.3750913143157959, 0.3745039105415344, 0.37280136346817017, 0.37341493368148804, 0.37314116954803467, 0.3739851713180542, 0.3711852431297302, 0.3706071078777313, 0.3697371184825897, 0.3683222234249115, 0.36796140670776367, 0.366344153881073, 0.3657863140106201, 0.365801602602005, 0.36348649859428406, 0.36425983905792236, 0.36298999190330505, 0.3620510399341583, 0.36258262395858765, 0.36071041226387024, 0.3615478277206421, 0.3616011142730713, 0.35979679226875305, 0.3601776361465454, 0.3588453531265259, 0.3580183982849121, 0.35683101415634155, 0.35629376769065857, 0.35701897740364075, 0.3567888140678406, 0.35554805397987366, 0.3549187481403351, 0.3544515073299408, 0.3527894914150238, 0.35624828934669495, 0.3526439368724823]}\n"
     ]
    }
   ],
   "source": [
    "print(history.history)"
   ]
  },
  {
   "cell_type": "code",
   "execution_count": 12,
   "metadata": {
    "scrolled": true
   },
   "outputs": [
    {
     "data": {
      "image/png": "[encoded data removed]",
      "text/plain": [
       "<Figure size 576x360 with 1 Axes>"
      ]
     },
     "metadata": {
      "needs_background": "light"
     },
     "output_type": "display_data"
    }
   ],
   "source": [
    "def plot_learning_curves(history):\n",
    "    pd.DataFrame(history.history).plot(figsize=(8, 5))\n",
    "    plt.grid(True)\n",
    "    plt.gca().set_ylim(0, 2.5)\n",
    "    plt.show()\n",
    "plot_learning_curves(history)"
   ]
  },
  {
   "cell_type": "code",
   "execution_count": 13,
   "metadata": {},
   "outputs": [
    {
     "data": {
      "text/plain": [
       "0.360502153635025"
      ]
     },
     "execution_count": 13,
     "metadata": {},
     "output_type": "execute_result"
    }
   ],
   "source": [
    "#不是这个模型不好，而是搭建的比较简单\n",
    "model.evaluate(x_test_scaled, y_test, verbose=0)"
   ]
  },
  {
   "cell_type": "code",
   "execution_count": null,
   "metadata": {},
   "outputs": [],
   "source": []
  }
 ],
 "metadata": {
  "kernelspec": {
   "display_name": "Python 3",
   "language": "python",
   "name": "python3"
  },
  "language_info": {
   "codemirror_mode": {
    "name": "ipython",
    "version": 3
   },
   "file_extension": ".py",
   "mimetype": "text/x-python",
   "name": "python",
   "nbconvert_exporter": "python",
   "pygments_lexer": "ipython3",
   "version": "3.6.9"
  }
 },
 "nbformat": 4,
 "nbformat_minor": 2
}
